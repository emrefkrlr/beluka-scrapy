{
 "cells": [
  {
   "cell_type": "code",
   "execution_count": 1,
   "id": "c7b1f047",
   "metadata": {
    "_cell_guid": "b1076dfc-b9ad-4769-8c92-a6c4dae69d19",
    "_uuid": "8f2839f25d086af736a60e9eeb907d3b93b6e0e5",
    "execution": {
     "iopub.execute_input": "2022-04-14T07:45:41.333588Z",
     "iopub.status.busy": "2022-04-14T07:45:41.332911Z",
     "iopub.status.idle": "2022-04-14T07:45:41.343737Z",
     "shell.execute_reply": "2022-04-14T07:45:41.344249Z",
     "shell.execute_reply.started": "2022-04-13T10:52:46.259537Z"
    },
    "papermill": {
     "duration": 0.051273,
     "end_time": "2022-04-14T07:45:41.344530",
     "exception": false,
     "start_time": "2022-04-14T07:45:41.293257",
     "status": "completed"
    },
    "tags": []
   },
   "outputs": [
    {
     "name": "stdout",
     "output_type": "stream",
     "text": [
      "/kaggle/input/credit-card-fraud-detection/creditcard.csv\n"
     ]
    }
   ],
   "source": [
    "# This Python 3 environment comes with many helpful analytics libraries installed\n",
    "# It is defined by the kaggle/python Docker image: https://github.com/kaggle/docker-python\n",
    "# For example, here's several helpful packages to load\n",
    "\n",
    "import numpy as np # linear algebra\n",
    "import pandas as pd # data processing, CSV file I/O (e.g. pd.read_csv)\n",
    "\n",
    "# Input data files are available in the read-only \"../input/\" directory\n",
    "# For example, running this (by clicking run or pressing Shift+Enter) will list all files under the input directory\n",
    "\n",
    "import os\n",
    "for dirname, _, filenames in os.walk('/kaggle/input'):\n",
    "    for filename in filenames:\n",
    "        print(os.path.join(dirname, filename))\n",
    "\n",
    "# You can write up to 20GB to the current directory (/kaggle/working/) that gets preserved as output when you create a version using \"Save & Run All\" \n",
    "# You can also write temporary files to /kaggle/temp/, but they won't be saved outside of the current session"
   ]
  },
  {
   "cell_type": "code",
   "execution_count": 2,
   "id": "c22a5eeb",
   "metadata": {
    "execution": {
     "iopub.execute_input": "2022-04-14T07:45:41.405851Z",
     "iopub.status.busy": "2022-04-14T07:45:41.405015Z",
     "iopub.status.idle": "2022-04-14T07:45:46.155805Z",
     "shell.execute_reply": "2022-04-14T07:45:46.154803Z",
     "shell.execute_reply.started": "2022-04-13T10:54:15.954618Z"
    },
    "papermill": {
     "duration": 4.783042,
     "end_time": "2022-04-14T07:45:46.155950",
     "exception": false,
     "start_time": "2022-04-14T07:45:41.372908",
     "status": "completed"
    },
    "tags": []
   },
   "outputs": [],
   "source": [
    "# I import data using pandas\n",
    "df = pd.read_csv('/kaggle/input/credit-card-fraud-detection/creditcard.csv')"
   ]
  },
  {
   "cell_type": "code",
   "execution_count": 3,
   "id": "002875b1",
   "metadata": {
    "execution": {
     "iopub.execute_input": "2022-04-14T07:45:46.214110Z",
     "iopub.status.busy": "2022-04-14T07:45:46.213453Z",
     "iopub.status.idle": "2022-04-14T07:45:46.266026Z",
     "shell.execute_reply": "2022-04-14T07:45:46.265434Z",
     "shell.execute_reply.started": "2022-04-13T10:55:31.530904Z"
    },
    "papermill": {
     "duration": 0.082902,
     "end_time": "2022-04-14T07:45:46.266179",
     "exception": false,
     "start_time": "2022-04-14T07:45:46.183277",
     "status": "completed"
    },
    "tags": []
   },
   "outputs": [
    {
     "name": "stdout",
     "output_type": "stream",
     "text": [
      "<class 'pandas.core.frame.DataFrame'>\n",
      "RangeIndex: 284807 entries, 0 to 284806\n",
      "Data columns (total 31 columns):\n",
      " #   Column  Non-Null Count   Dtype  \n",
      "---  ------  --------------   -----  \n",
      " 0   Time    284807 non-null  float64\n",
      " 1   V1      284807 non-null  float64\n",
      " 2   V2      284807 non-null  float64\n",
      " 3   V3      284807 non-null  float64\n",
      " 4   V4      284807 non-null  float64\n",
      " 5   V5      284807 non-null  float64\n",
      " 6   V6      284807 non-null  float64\n",
      " 7   V7      284807 non-null  float64\n",
      " 8   V8      284807 non-null  float64\n",
      " 9   V9      284807 non-null  float64\n",
      " 10  V10     284807 non-null  float64\n",
      " 11  V11     284807 non-null  float64\n",
      " 12  V12     284807 non-null  float64\n",
      " 13  V13     284807 non-null  float64\n",
      " 14  V14     284807 non-null  float64\n",
      " 15  V15     284807 non-null  float64\n",
      " 16  V16     284807 non-null  float64\n",
      " 17  V17     284807 non-null  float64\n",
      " 18  V18     284807 non-null  float64\n",
      " 19  V19     284807 non-null  float64\n",
      " 20  V20     284807 non-null  float64\n",
      " 21  V21     284807 non-null  float64\n",
      " 22  V22     284807 non-null  float64\n",
      " 23  V23     284807 non-null  float64\n",
      " 24  V24     284807 non-null  float64\n",
      " 25  V25     284807 non-null  float64\n",
      " 26  V26     284807 non-null  float64\n",
      " 27  V27     284807 non-null  float64\n",
      " 28  V28     284807 non-null  float64\n",
      " 29  Amount  284807 non-null  float64\n",
      " 30  Class   284807 non-null  int64  \n",
      "dtypes: float64(30), int64(1)\n",
      "memory usage: 67.4 MB\n"
     ]
    }
   ],
   "source": [
    "# Let's examine the structure of DataFrame\n",
    "df.info()"
   ]
  },
  {
   "cell_type": "markdown",
   "id": "dc008f6c",
   "metadata": {
    "execution": {
     "iopub.execute_input": "2022-04-13T10:56:37.187126Z",
     "iopub.status.busy": "2022-04-13T10:56:37.186833Z",
     "iopub.status.idle": "2022-04-13T10:56:37.192955Z",
     "shell.execute_reply": "2022-04-13T10:56:37.192035Z",
     "shell.execute_reply.started": "2022-04-13T10:56:37.187094Z"
    },
    "papermill": {
     "duration": 0.027673,
     "end_time": "2022-04-14T07:45:46.321806",
     "exception": false,
     "start_time": "2022-04-14T07:45:46.294133",
     "status": "completed"
    },
    "tags": []
   },
   "source": [
    "I know the history of the data, I know that the Class variable is a **categorical** variable.\n",
    "However, in some cases, you can understand this or be sure of your guess by examining the structure of the data.\n",
    "For this, I check the value ranges of the variable by looking at the descriptive statistics of the data."
   ]
  },
  {
   "cell_type": "code",
   "execution_count": 4,
   "id": "a47f9df7",
   "metadata": {
    "execution": {
     "iopub.execute_input": "2022-04-14T07:45:46.380635Z",
     "iopub.status.busy": "2022-04-14T07:45:46.379977Z",
     "iopub.status.idle": "2022-04-14T07:45:46.830118Z",
     "shell.execute_reply": "2022-04-14T07:45:46.830610Z",
     "shell.execute_reply.started": "2022-04-13T10:56:59.550825Z"
    },
    "papermill": {
     "duration": 0.481138,
     "end_time": "2022-04-14T07:45:46.830793",
     "exception": false,
     "start_time": "2022-04-14T07:45:46.349655",
     "status": "completed"
    },
    "tags": []
   },
   "outputs": [
    {
     "data": {
      "text/html": [
       "<div>\n",
       "<style scoped>\n",
       "    .dataframe tbody tr th:only-of-type {\n",
       "        vertical-align: middle;\n",
       "    }\n",
       "\n",
       "    .dataframe tbody tr th {\n",
       "        vertical-align: top;\n",
       "    }\n",
       "\n",
       "    .dataframe thead th {\n",
       "        text-align: right;\n",
       "    }\n",
       "</style>\n",
       "<table border=\"1\" class=\"dataframe\">\n",
       "  <thead>\n",
       "    <tr style=\"text-align: right;\">\n",
       "      <th></th>\n",
       "      <th>count</th>\n",
       "      <th>mean</th>\n",
       "      <th>std</th>\n",
       "      <th>min</th>\n",
       "      <th>25%</th>\n",
       "      <th>50%</th>\n",
       "      <th>75%</th>\n",
       "      <th>max</th>\n",
       "    </tr>\n",
       "  </thead>\n",
       "  <tbody>\n",
       "    <tr>\n",
       "      <th>Time</th>\n",
       "      <td>284807.0</td>\n",
       "      <td>9.481386e+04</td>\n",
       "      <td>47488.145955</td>\n",
       "      <td>0.000000</td>\n",
       "      <td>54201.500000</td>\n",
       "      <td>84692.000000</td>\n",
       "      <td>139320.500000</td>\n",
       "      <td>172792.000000</td>\n",
       "    </tr>\n",
       "    <tr>\n",
       "      <th>V1</th>\n",
       "      <td>284807.0</td>\n",
       "      <td>3.918649e-15</td>\n",
       "      <td>1.958696</td>\n",
       "      <td>-56.407510</td>\n",
       "      <td>-0.920373</td>\n",
       "      <td>0.018109</td>\n",
       "      <td>1.315642</td>\n",
       "      <td>2.454930</td>\n",
       "    </tr>\n",
       "    <tr>\n",
       "      <th>V2</th>\n",
       "      <td>284807.0</td>\n",
       "      <td>5.682686e-16</td>\n",
       "      <td>1.651309</td>\n",
       "      <td>-72.715728</td>\n",
       "      <td>-0.598550</td>\n",
       "      <td>0.065486</td>\n",
       "      <td>0.803724</td>\n",
       "      <td>22.057729</td>\n",
       "    </tr>\n",
       "    <tr>\n",
       "      <th>V3</th>\n",
       "      <td>284807.0</td>\n",
       "      <td>-8.761736e-15</td>\n",
       "      <td>1.516255</td>\n",
       "      <td>-48.325589</td>\n",
       "      <td>-0.890365</td>\n",
       "      <td>0.179846</td>\n",
       "      <td>1.027196</td>\n",
       "      <td>9.382558</td>\n",
       "    </tr>\n",
       "    <tr>\n",
       "      <th>V4</th>\n",
       "      <td>284807.0</td>\n",
       "      <td>2.811118e-15</td>\n",
       "      <td>1.415869</td>\n",
       "      <td>-5.683171</td>\n",
       "      <td>-0.848640</td>\n",
       "      <td>-0.019847</td>\n",
       "      <td>0.743341</td>\n",
       "      <td>16.875344</td>\n",
       "    </tr>\n",
       "    <tr>\n",
       "      <th>V5</th>\n",
       "      <td>284807.0</td>\n",
       "      <td>-1.552103e-15</td>\n",
       "      <td>1.380247</td>\n",
       "      <td>-113.743307</td>\n",
       "      <td>-0.691597</td>\n",
       "      <td>-0.054336</td>\n",
       "      <td>0.611926</td>\n",
       "      <td>34.801666</td>\n",
       "    </tr>\n",
       "    <tr>\n",
       "      <th>V6</th>\n",
       "      <td>284807.0</td>\n",
       "      <td>2.040130e-15</td>\n",
       "      <td>1.332271</td>\n",
       "      <td>-26.160506</td>\n",
       "      <td>-0.768296</td>\n",
       "      <td>-0.274187</td>\n",
       "      <td>0.398565</td>\n",
       "      <td>73.301626</td>\n",
       "    </tr>\n",
       "    <tr>\n",
       "      <th>V7</th>\n",
       "      <td>284807.0</td>\n",
       "      <td>-1.698953e-15</td>\n",
       "      <td>1.237094</td>\n",
       "      <td>-43.557242</td>\n",
       "      <td>-0.554076</td>\n",
       "      <td>0.040103</td>\n",
       "      <td>0.570436</td>\n",
       "      <td>120.589494</td>\n",
       "    </tr>\n",
       "    <tr>\n",
       "      <th>V8</th>\n",
       "      <td>284807.0</td>\n",
       "      <td>-1.893285e-16</td>\n",
       "      <td>1.194353</td>\n",
       "      <td>-73.216718</td>\n",
       "      <td>-0.208630</td>\n",
       "      <td>0.022358</td>\n",
       "      <td>0.327346</td>\n",
       "      <td>20.007208</td>\n",
       "    </tr>\n",
       "    <tr>\n",
       "      <th>V9</th>\n",
       "      <td>284807.0</td>\n",
       "      <td>-3.147640e-15</td>\n",
       "      <td>1.098632</td>\n",
       "      <td>-13.434066</td>\n",
       "      <td>-0.643098</td>\n",
       "      <td>-0.051429</td>\n",
       "      <td>0.597139</td>\n",
       "      <td>15.594995</td>\n",
       "    </tr>\n",
       "    <tr>\n",
       "      <th>V10</th>\n",
       "      <td>284807.0</td>\n",
       "      <td>1.772925e-15</td>\n",
       "      <td>1.088850</td>\n",
       "      <td>-24.588262</td>\n",
       "      <td>-0.535426</td>\n",
       "      <td>-0.092917</td>\n",
       "      <td>0.453923</td>\n",
       "      <td>23.745136</td>\n",
       "    </tr>\n",
       "    <tr>\n",
       "      <th>V11</th>\n",
       "      <td>284807.0</td>\n",
       "      <td>9.289524e-16</td>\n",
       "      <td>1.020713</td>\n",
       "      <td>-4.797473</td>\n",
       "      <td>-0.762494</td>\n",
       "      <td>-0.032757</td>\n",
       "      <td>0.739593</td>\n",
       "      <td>12.018913</td>\n",
       "    </tr>\n",
       "    <tr>\n",
       "      <th>V12</th>\n",
       "      <td>284807.0</td>\n",
       "      <td>-1.803266e-15</td>\n",
       "      <td>0.999201</td>\n",
       "      <td>-18.683715</td>\n",
       "      <td>-0.405571</td>\n",
       "      <td>0.140033</td>\n",
       "      <td>0.618238</td>\n",
       "      <td>7.848392</td>\n",
       "    </tr>\n",
       "    <tr>\n",
       "      <th>V13</th>\n",
       "      <td>284807.0</td>\n",
       "      <td>1.674888e-15</td>\n",
       "      <td>0.995274</td>\n",
       "      <td>-5.791881</td>\n",
       "      <td>-0.648539</td>\n",
       "      <td>-0.013568</td>\n",
       "      <td>0.662505</td>\n",
       "      <td>7.126883</td>\n",
       "    </tr>\n",
       "    <tr>\n",
       "      <th>V14</th>\n",
       "      <td>284807.0</td>\n",
       "      <td>1.475621e-15</td>\n",
       "      <td>0.958596</td>\n",
       "      <td>-19.214325</td>\n",
       "      <td>-0.425574</td>\n",
       "      <td>0.050601</td>\n",
       "      <td>0.493150</td>\n",
       "      <td>10.526766</td>\n",
       "    </tr>\n",
       "    <tr>\n",
       "      <th>V15</th>\n",
       "      <td>284807.0</td>\n",
       "      <td>3.501098e-15</td>\n",
       "      <td>0.915316</td>\n",
       "      <td>-4.498945</td>\n",
       "      <td>-0.582884</td>\n",
       "      <td>0.048072</td>\n",
       "      <td>0.648821</td>\n",
       "      <td>8.877742</td>\n",
       "    </tr>\n",
       "    <tr>\n",
       "      <th>V16</th>\n",
       "      <td>284807.0</td>\n",
       "      <td>1.392460e-15</td>\n",
       "      <td>0.876253</td>\n",
       "      <td>-14.129855</td>\n",
       "      <td>-0.468037</td>\n",
       "      <td>0.066413</td>\n",
       "      <td>0.523296</td>\n",
       "      <td>17.315112</td>\n",
       "    </tr>\n",
       "    <tr>\n",
       "      <th>V17</th>\n",
       "      <td>284807.0</td>\n",
       "      <td>-7.466538e-16</td>\n",
       "      <td>0.849337</td>\n",
       "      <td>-25.162799</td>\n",
       "      <td>-0.483748</td>\n",
       "      <td>-0.065676</td>\n",
       "      <td>0.399675</td>\n",
       "      <td>9.253526</td>\n",
       "    </tr>\n",
       "    <tr>\n",
       "      <th>V18</th>\n",
       "      <td>284807.0</td>\n",
       "      <td>4.258754e-16</td>\n",
       "      <td>0.838176</td>\n",
       "      <td>-9.498746</td>\n",
       "      <td>-0.498850</td>\n",
       "      <td>-0.003636</td>\n",
       "      <td>0.500807</td>\n",
       "      <td>5.041069</td>\n",
       "    </tr>\n",
       "    <tr>\n",
       "      <th>V19</th>\n",
       "      <td>284807.0</td>\n",
       "      <td>9.019919e-16</td>\n",
       "      <td>0.814041</td>\n",
       "      <td>-7.213527</td>\n",
       "      <td>-0.456299</td>\n",
       "      <td>0.003735</td>\n",
       "      <td>0.458949</td>\n",
       "      <td>5.591971</td>\n",
       "    </tr>\n",
       "    <tr>\n",
       "      <th>V20</th>\n",
       "      <td>284807.0</td>\n",
       "      <td>5.126845e-16</td>\n",
       "      <td>0.770925</td>\n",
       "      <td>-54.497720</td>\n",
       "      <td>-0.211721</td>\n",
       "      <td>-0.062481</td>\n",
       "      <td>0.133041</td>\n",
       "      <td>39.420904</td>\n",
       "    </tr>\n",
       "    <tr>\n",
       "      <th>V21</th>\n",
       "      <td>284807.0</td>\n",
       "      <td>1.473120e-16</td>\n",
       "      <td>0.734524</td>\n",
       "      <td>-34.830382</td>\n",
       "      <td>-0.228395</td>\n",
       "      <td>-0.029450</td>\n",
       "      <td>0.186377</td>\n",
       "      <td>27.202839</td>\n",
       "    </tr>\n",
       "    <tr>\n",
       "      <th>V22</th>\n",
       "      <td>284807.0</td>\n",
       "      <td>8.042109e-16</td>\n",
       "      <td>0.725702</td>\n",
       "      <td>-10.933144</td>\n",
       "      <td>-0.542350</td>\n",
       "      <td>0.006782</td>\n",
       "      <td>0.528554</td>\n",
       "      <td>10.503090</td>\n",
       "    </tr>\n",
       "    <tr>\n",
       "      <th>V23</th>\n",
       "      <td>284807.0</td>\n",
       "      <td>5.282512e-16</td>\n",
       "      <td>0.624460</td>\n",
       "      <td>-44.807735</td>\n",
       "      <td>-0.161846</td>\n",
       "      <td>-0.011193</td>\n",
       "      <td>0.147642</td>\n",
       "      <td>22.528412</td>\n",
       "    </tr>\n",
       "    <tr>\n",
       "      <th>V24</th>\n",
       "      <td>284807.0</td>\n",
       "      <td>4.456271e-15</td>\n",
       "      <td>0.605647</td>\n",
       "      <td>-2.836627</td>\n",
       "      <td>-0.354586</td>\n",
       "      <td>0.040976</td>\n",
       "      <td>0.439527</td>\n",
       "      <td>4.584549</td>\n",
       "    </tr>\n",
       "    <tr>\n",
       "      <th>V25</th>\n",
       "      <td>284807.0</td>\n",
       "      <td>1.426896e-15</td>\n",
       "      <td>0.521278</td>\n",
       "      <td>-10.295397</td>\n",
       "      <td>-0.317145</td>\n",
       "      <td>0.016594</td>\n",
       "      <td>0.350716</td>\n",
       "      <td>7.519589</td>\n",
       "    </tr>\n",
       "    <tr>\n",
       "      <th>V26</th>\n",
       "      <td>284807.0</td>\n",
       "      <td>1.701640e-15</td>\n",
       "      <td>0.482227</td>\n",
       "      <td>-2.604551</td>\n",
       "      <td>-0.326984</td>\n",
       "      <td>-0.052139</td>\n",
       "      <td>0.240952</td>\n",
       "      <td>3.517346</td>\n",
       "    </tr>\n",
       "    <tr>\n",
       "      <th>V27</th>\n",
       "      <td>284807.0</td>\n",
       "      <td>-3.662252e-16</td>\n",
       "      <td>0.403632</td>\n",
       "      <td>-22.565679</td>\n",
       "      <td>-0.070840</td>\n",
       "      <td>0.001342</td>\n",
       "      <td>0.091045</td>\n",
       "      <td>31.612198</td>\n",
       "    </tr>\n",
       "    <tr>\n",
       "      <th>V28</th>\n",
       "      <td>284807.0</td>\n",
       "      <td>-1.217809e-16</td>\n",
       "      <td>0.330083</td>\n",
       "      <td>-15.430084</td>\n",
       "      <td>-0.052960</td>\n",
       "      <td>0.011244</td>\n",
       "      <td>0.078280</td>\n",
       "      <td>33.847808</td>\n",
       "    </tr>\n",
       "    <tr>\n",
       "      <th>Amount</th>\n",
       "      <td>284807.0</td>\n",
       "      <td>8.834962e+01</td>\n",
       "      <td>250.120109</td>\n",
       "      <td>0.000000</td>\n",
       "      <td>5.600000</td>\n",
       "      <td>22.000000</td>\n",
       "      <td>77.165000</td>\n",
       "      <td>25691.160000</td>\n",
       "    </tr>\n",
       "    <tr>\n",
       "      <th>Class</th>\n",
       "      <td>284807.0</td>\n",
       "      <td>1.727486e-03</td>\n",
       "      <td>0.041527</td>\n",
       "      <td>0.000000</td>\n",
       "      <td>0.000000</td>\n",
       "      <td>0.000000</td>\n",
       "      <td>0.000000</td>\n",
       "      <td>1.000000</td>\n",
       "    </tr>\n",
       "  </tbody>\n",
       "</table>\n",
       "</div>"
      ],
      "text/plain": [
       "           count          mean           std         min           25%  \\\n",
       "Time    284807.0  9.481386e+04  47488.145955    0.000000  54201.500000   \n",
       "V1      284807.0  3.918649e-15      1.958696  -56.407510     -0.920373   \n",
       "V2      284807.0  5.682686e-16      1.651309  -72.715728     -0.598550   \n",
       "V3      284807.0 -8.761736e-15      1.516255  -48.325589     -0.890365   \n",
       "V4      284807.0  2.811118e-15      1.415869   -5.683171     -0.848640   \n",
       "V5      284807.0 -1.552103e-15      1.380247 -113.743307     -0.691597   \n",
       "V6      284807.0  2.040130e-15      1.332271  -26.160506     -0.768296   \n",
       "V7      284807.0 -1.698953e-15      1.237094  -43.557242     -0.554076   \n",
       "V8      284807.0 -1.893285e-16      1.194353  -73.216718     -0.208630   \n",
       "V9      284807.0 -3.147640e-15      1.098632  -13.434066     -0.643098   \n",
       "V10     284807.0  1.772925e-15      1.088850  -24.588262     -0.535426   \n",
       "V11     284807.0  9.289524e-16      1.020713   -4.797473     -0.762494   \n",
       "V12     284807.0 -1.803266e-15      0.999201  -18.683715     -0.405571   \n",
       "V13     284807.0  1.674888e-15      0.995274   -5.791881     -0.648539   \n",
       "V14     284807.0  1.475621e-15      0.958596  -19.214325     -0.425574   \n",
       "V15     284807.0  3.501098e-15      0.915316   -4.498945     -0.582884   \n",
       "V16     284807.0  1.392460e-15      0.876253  -14.129855     -0.468037   \n",
       "V17     284807.0 -7.466538e-16      0.849337  -25.162799     -0.483748   \n",
       "V18     284807.0  4.258754e-16      0.838176   -9.498746     -0.498850   \n",
       "V19     284807.0  9.019919e-16      0.814041   -7.213527     -0.456299   \n",
       "V20     284807.0  5.126845e-16      0.770925  -54.497720     -0.211721   \n",
       "V21     284807.0  1.473120e-16      0.734524  -34.830382     -0.228395   \n",
       "V22     284807.0  8.042109e-16      0.725702  -10.933144     -0.542350   \n",
       "V23     284807.0  5.282512e-16      0.624460  -44.807735     -0.161846   \n",
       "V24     284807.0  4.456271e-15      0.605647   -2.836627     -0.354586   \n",
       "V25     284807.0  1.426896e-15      0.521278  -10.295397     -0.317145   \n",
       "V26     284807.0  1.701640e-15      0.482227   -2.604551     -0.326984   \n",
       "V27     284807.0 -3.662252e-16      0.403632  -22.565679     -0.070840   \n",
       "V28     284807.0 -1.217809e-16      0.330083  -15.430084     -0.052960   \n",
       "Amount  284807.0  8.834962e+01    250.120109    0.000000      5.600000   \n",
       "Class   284807.0  1.727486e-03      0.041527    0.000000      0.000000   \n",
       "\n",
       "                 50%            75%            max  \n",
       "Time    84692.000000  139320.500000  172792.000000  \n",
       "V1          0.018109       1.315642       2.454930  \n",
       "V2          0.065486       0.803724      22.057729  \n",
       "V3          0.179846       1.027196       9.382558  \n",
       "V4         -0.019847       0.743341      16.875344  \n",
       "V5         -0.054336       0.611926      34.801666  \n",
       "V6         -0.274187       0.398565      73.301626  \n",
       "V7          0.040103       0.570436     120.589494  \n",
       "V8          0.022358       0.327346      20.007208  \n",
       "V9         -0.051429       0.597139      15.594995  \n",
       "V10        -0.092917       0.453923      23.745136  \n",
       "V11        -0.032757       0.739593      12.018913  \n",
       "V12         0.140033       0.618238       7.848392  \n",
       "V13        -0.013568       0.662505       7.126883  \n",
       "V14         0.050601       0.493150      10.526766  \n",
       "V15         0.048072       0.648821       8.877742  \n",
       "V16         0.066413       0.523296      17.315112  \n",
       "V17        -0.065676       0.399675       9.253526  \n",
       "V18        -0.003636       0.500807       5.041069  \n",
       "V19         0.003735       0.458949       5.591971  \n",
       "V20        -0.062481       0.133041      39.420904  \n",
       "V21        -0.029450       0.186377      27.202839  \n",
       "V22         0.006782       0.528554      10.503090  \n",
       "V23        -0.011193       0.147642      22.528412  \n",
       "V24         0.040976       0.439527       4.584549  \n",
       "V25         0.016594       0.350716       7.519589  \n",
       "V26        -0.052139       0.240952       3.517346  \n",
       "V27         0.001342       0.091045      31.612198  \n",
       "V28         0.011244       0.078280      33.847808  \n",
       "Amount     22.000000      77.165000   25691.160000  \n",
       "Class       0.000000       0.000000       1.000000  "
      ]
     },
     "execution_count": 4,
     "metadata": {},
     "output_type": "execute_result"
    }
   ],
   "source": [
    "df.describe().T"
   ]
  },
  {
   "cell_type": "markdown",
   "id": "f5ab11ba",
   "metadata": {
    "papermill": {
     "duration": 0.031212,
     "end_time": "2022-04-14T07:45:46.891150",
     "exception": false,
     "start_time": "2022-04-14T07:45:46.859938",
     "status": "completed"
    },
    "tags": []
   },
   "source": [
    "As can be seen, we see that the Class variable takes the value min 0 max 1. In this case, there is no difference between the classes indicated by the variable and we can say that **it is a categorical variable measured with a nominal unit of measure**."
   ]
  },
  {
   "cell_type": "markdown",
   "id": "01392c04",
   "metadata": {
    "papermill": {
     "duration": 0.035723,
     "end_time": "2022-04-14T07:45:46.962807",
     "exception": false,
     "start_time": "2022-04-14T07:45:46.927084",
     "status": "completed"
    },
    "tags": []
   },
   "source": [
    "Now let's edit the type of the classes so that we can review a categorical setting"
   ]
  },
  {
   "cell_type": "code",
   "execution_count": 5,
   "id": "feb2d253",
   "metadata": {
    "execution": {
     "iopub.execute_input": "2022-04-14T07:45:47.037150Z",
     "iopub.status.busy": "2022-04-14T07:45:47.036501Z",
     "iopub.status.idle": "2022-04-14T07:45:47.048238Z",
     "shell.execute_reply": "2022-04-14T07:45:47.047749Z",
     "shell.execute_reply.started": "2022-04-13T10:58:27.416402Z"
    },
    "papermill": {
     "duration": 0.049819,
     "end_time": "2022-04-14T07:45:47.048373",
     "exception": false,
     "start_time": "2022-04-14T07:45:46.998554",
     "status": "completed"
    },
    "tags": []
   },
   "outputs": [
    {
     "data": {
      "text/plain": [
       "Time       float64\n",
       "V1         float64\n",
       "V2         float64\n",
       "V3         float64\n",
       "V4         float64\n",
       "V5         float64\n",
       "V6         float64\n",
       "V7         float64\n",
       "V8         float64\n",
       "V9         float64\n",
       "V10        float64\n",
       "V11        float64\n",
       "V12        float64\n",
       "V13        float64\n",
       "V14        float64\n",
       "V15        float64\n",
       "V16        float64\n",
       "V17        float64\n",
       "V18        float64\n",
       "V19        float64\n",
       "V20        float64\n",
       "V21        float64\n",
       "V22        float64\n",
       "V23        float64\n",
       "V24        float64\n",
       "V25        float64\n",
       "V26        float64\n",
       "V27        float64\n",
       "V28        float64\n",
       "Amount     float64\n",
       "Class     category\n",
       "dtype: object"
      ]
     },
     "execution_count": 5,
     "metadata": {},
     "output_type": "execute_result"
    }
   ],
   "source": [
    "df.Class = pd.Categorical(df.Class)\n",
    "df.dtypes"
   ]
  },
  {
   "cell_type": "code",
   "execution_count": 6,
   "id": "36bbe0fa",
   "metadata": {
    "execution": {
     "iopub.execute_input": "2022-04-14T07:45:47.112941Z",
     "iopub.status.busy": "2022-04-14T07:45:47.112192Z",
     "iopub.status.idle": "2022-04-14T07:45:47.118061Z",
     "shell.execute_reply": "2022-04-14T07:45:47.118528Z",
     "shell.execute_reply.started": "2022-04-13T10:59:50.569559Z"
    },
    "papermill": {
     "duration": 0.040231,
     "end_time": "2022-04-14T07:45:47.118722",
     "exception": false,
     "start_time": "2022-04-14T07:45:47.078491",
     "status": "completed"
    },
    "tags": []
   },
   "outputs": [
    {
     "data": {
      "text/plain": [
       "[0, 1]\n",
       "Categories (2, int64): [0, 1]"
      ]
     },
     "execution_count": 6,
     "metadata": {},
     "output_type": "execute_result"
    }
   ],
   "source": [
    "# I want to verify my thesis that a categorical variable consists of 1 and 0 by accessing its values\n",
    "df.Class.unique()"
   ]
  },
  {
   "cell_type": "code",
   "execution_count": 7,
   "id": "70b346ef",
   "metadata": {
    "execution": {
     "iopub.execute_input": "2022-04-14T07:45:47.181056Z",
     "iopub.status.busy": "2022-04-14T07:45:47.180441Z",
     "iopub.status.idle": "2022-04-14T07:45:47.205078Z",
     "shell.execute_reply": "2022-04-14T07:45:47.205555Z",
     "shell.execute_reply.started": "2022-04-13T11:00:16.762052Z"
    },
    "papermill": {
     "duration": 0.057622,
     "end_time": "2022-04-14T07:45:47.205758",
     "exception": false,
     "start_time": "2022-04-14T07:45:47.148136",
     "status": "completed"
    },
    "tags": []
   },
   "outputs": [
    {
     "data": {
      "text/plain": [
       "Time      0\n",
       "V1        0\n",
       "V2        0\n",
       "V3        0\n",
       "V4        0\n",
       "V5        0\n",
       "V6        0\n",
       "V7        0\n",
       "V8        0\n",
       "V9        0\n",
       "V10       0\n",
       "V11       0\n",
       "V12       0\n",
       "V13       0\n",
       "V14       0\n",
       "V15       0\n",
       "V16       0\n",
       "V17       0\n",
       "V18       0\n",
       "V19       0\n",
       "V20       0\n",
       "V21       0\n",
       "V22       0\n",
       "V23       0\n",
       "V24       0\n",
       "V25       0\n",
       "V26       0\n",
       "V27       0\n",
       "V28       0\n",
       "Amount    0\n",
       "Class     0\n",
       "dtype: int64"
      ]
     },
     "execution_count": 7,
     "metadata": {},
     "output_type": "execute_result"
    }
   ],
   "source": [
    "# missing observations?\n",
    "df.isnull().sum()"
   ]
  },
  {
   "cell_type": "code",
   "execution_count": 8,
   "id": "c2a8728f",
   "metadata": {
    "execution": {
     "iopub.execute_input": "2022-04-14T07:45:47.269889Z",
     "iopub.status.busy": "2022-04-14T07:45:47.269174Z",
     "iopub.status.idle": "2022-04-14T07:45:47.278592Z",
     "shell.execute_reply": "2022-04-14T07:45:47.279134Z",
     "shell.execute_reply.started": "2022-04-13T11:01:05.473623Z"
    },
    "papermill": {
     "duration": 0.042884,
     "end_time": "2022-04-14T07:45:47.279297",
     "exception": false,
     "start_time": "2022-04-14T07:45:47.236413",
     "status": "completed"
    },
    "tags": []
   },
   "outputs": [
    {
     "data": {
      "text/plain": [
       "0    284315\n",
       "1       492\n",
       "Name: Class, dtype: int64"
      ]
     },
     "execution_count": 8,
     "metadata": {},
     "output_type": "execute_result"
    }
   ],
   "source": [
    "# I want to access the frequency of the classes of my categorical variable.\n",
    "df.Class.value_counts()"
   ]
  },
  {
   "cell_type": "markdown",
   "id": "5a01eb78",
   "metadata": {
    "papermill": {
     "duration": 0.030044,
     "end_time": "2022-04-14T07:45:47.340022",
     "exception": false,
     "start_time": "2022-04-14T07:45:47.309978",
     "status": "completed"
    },
    "tags": []
   },
   "source": [
    "As stated in the dataset story;\n",
    "0-> Normal transaction is given as 1-> Fraud transaction."
   ]
  },
  {
   "cell_type": "markdown",
   "id": "b56452b9",
   "metadata": {
    "papermill": {
     "duration": 0.029993,
     "end_time": "2022-04-14T07:45:47.400332",
     "exception": false,
     "start_time": "2022-04-14T07:45:47.370339",
     "status": "completed"
    },
    "tags": []
   },
   "source": [
    "----------------\n",
    "\n",
    "## Preparing the Data\n",
    "\n",
    "I want to create my own test and train data in a homogeneous structure. The reason for this is to make sure that the 1s and 0s are present in the train and test data in equal proportions."
   ]
  },
  {
   "cell_type": "code",
   "execution_count": 9,
   "id": "31e521e9",
   "metadata": {
    "execution": {
     "iopub.execute_input": "2022-04-14T07:45:47.464783Z",
     "iopub.status.busy": "2022-04-14T07:45:47.464069Z",
     "iopub.status.idle": "2022-04-14T07:45:48.619936Z",
     "shell.execute_reply": "2022-04-14T07:45:48.620471Z",
     "shell.execute_reply.started": "2022-04-13T11:03:37.076313Z"
    },
    "papermill": {
     "duration": 1.19003,
     "end_time": "2022-04-14T07:45:48.620669",
     "exception": false,
     "start_time": "2022-04-14T07:45:47.430639",
     "status": "completed"
    },
    "tags": []
   },
   "outputs": [],
   "source": [
    "from sklearn.model_selection import train_test_split\n",
    "\n",
    "train_1 , test_1 = train_test_split(df[df.Class == 1], test_size = 0.2)\n",
    "train_0, test_0 = train_test_split(df[df.Class == 0], test_size = 0.2)"
   ]
  },
  {
   "cell_type": "code",
   "execution_count": 10,
   "id": "da33ac7e",
   "metadata": {
    "execution": {
     "iopub.execute_input": "2022-04-14T07:45:48.687021Z",
     "iopub.status.busy": "2022-04-14T07:45:48.686311Z",
     "iopub.status.idle": "2022-04-14T07:45:48.722973Z",
     "shell.execute_reply": "2022-04-14T07:45:48.722415Z",
     "shell.execute_reply.started": "2022-04-13T11:03:53.588323Z"
    },
    "papermill": {
     "duration": 0.071666,
     "end_time": "2022-04-14T07:45:48.723121",
     "exception": false,
     "start_time": "2022-04-14T07:45:48.651455",
     "status": "completed"
    },
    "tags": []
   },
   "outputs": [],
   "source": [
    "new_train_df = pd.concat([train_1, train_0])\n",
    "new_test_df = pd.concat([test_1, test_0])"
   ]
  },
  {
   "cell_type": "markdown",
   "id": "5100043e",
   "metadata": {
    "papermill": {
     "duration": 0.030458,
     "end_time": "2022-04-14T07:45:48.784768",
     "exception": false,
     "start_time": "2022-04-14T07:45:48.754310",
     "status": "completed"
    },
    "tags": []
   },
   "source": [
    "Checking their numbers after dispersal"
   ]
  },
  {
   "cell_type": "code",
   "execution_count": 11,
   "id": "9ebf080d",
   "metadata": {
    "execution": {
     "iopub.execute_input": "2022-04-14T07:45:48.852124Z",
     "iopub.status.busy": "2022-04-14T07:45:48.851436Z",
     "iopub.status.idle": "2022-04-14T07:45:48.859211Z",
     "shell.execute_reply": "2022-04-14T07:45:48.859895Z",
     "shell.execute_reply.started": "2022-04-13T11:06:27.374328Z"
    },
    "papermill": {
     "duration": 0.044476,
     "end_time": "2022-04-14T07:45:48.860152",
     "exception": false,
     "start_time": "2022-04-14T07:45:48.815676",
     "status": "completed"
    },
    "tags": []
   },
   "outputs": [
    {
     "name": "stdout",
     "output_type": "stream",
     "text": [
      "\n",
      "Train DataFrame\n",
      "\n",
      "0    227452\n",
      "1       393\n",
      "Name: Class, dtype: int64\n",
      "\n",
      "----------------------\n",
      "\n",
      "Test DataFrame\n",
      "\n",
      "0    56863\n",
      "1       99\n",
      "Name: Class, dtype: int64\n",
      "\n"
     ]
    }
   ],
   "source": [
    "print(\n",
    "\"\"\"\n",
    "Train DataFrame\n",
    "\n",
    "{}\n",
    "\n",
    "----------------------\n",
    "\n",
    "Test DataFrame\n",
    "\n",
    "{}\n",
    "\"\"\".format(new_train_df.Class.value_counts(), new_test_df.Class.value_counts()))"
   ]
  },
  {
   "cell_type": "markdown",
   "id": "604ea523",
   "metadata": {
    "papermill": {
     "duration": 0.030363,
     "end_time": "2022-04-14T07:45:48.922396",
     "exception": false,
     "start_time": "2022-04-14T07:45:48.892033",
     "status": "completed"
    },
    "tags": []
   },
   "source": [
    "Now for the **Train dataset**, I separate the dependent and independent variables. \n",
    "\n",
    "X -> Independent Y -> My dependent variables"
   ]
  },
  {
   "cell_type": "code",
   "execution_count": 12,
   "id": "5116ae87",
   "metadata": {
    "execution": {
     "iopub.execute_input": "2022-04-14T07:45:48.987846Z",
     "iopub.status.busy": "2022-04-14T07:45:48.987181Z",
     "iopub.status.idle": "2022-04-14T07:45:49.018258Z",
     "shell.execute_reply": "2022-04-14T07:45:49.017695Z",
     "shell.execute_reply.started": "2022-04-13T11:08:51.545349Z"
    },
    "papermill": {
     "duration": 0.064744,
     "end_time": "2022-04-14T07:45:49.018453",
     "exception": false,
     "start_time": "2022-04-14T07:45:48.953709",
     "status": "completed"
    },
    "tags": []
   },
   "outputs": [],
   "source": [
    "xTrain = new_train_df.drop(columns='Class', axis=1)\n",
    "yTrain = new_train_df.Class"
   ]
  },
  {
   "cell_type": "code",
   "execution_count": 13,
   "id": "9529c169",
   "metadata": {
    "execution": {
     "iopub.execute_input": "2022-04-14T07:45:49.084896Z",
     "iopub.status.busy": "2022-04-14T07:45:49.083889Z",
     "iopub.status.idle": "2022-04-14T07:45:49.123043Z",
     "shell.execute_reply": "2022-04-14T07:45:49.122329Z",
     "shell.execute_reply.started": "2022-04-13T11:10:00.878857Z"
    },
    "papermill": {
     "duration": 0.073328,
     "end_time": "2022-04-14T07:45:49.123199",
     "exception": false,
     "start_time": "2022-04-14T07:45:49.049871",
     "status": "completed"
    },
    "tags": []
   },
   "outputs": [
    {
     "name": "stdout",
     "output_type": "stream",
     "text": [
      "\n",
      "Indipendent Variables\n",
      "            Time        V1        V2        V3        V4        V5        V6  \\\n",
      "10484    17187.0  1.088375  0.898474  0.394684  3.170258  0.175739 -0.221981   \n",
      "88307    62080.0 -1.599457  2.607720 -2.987193  3.064156 -2.497914 -0.541103   \n",
      "222419  142961.0  0.457845  1.373769 -0.488926  2.805351  1.777386  0.100492   \n",
      "6108      6986.0 -4.397974  1.358367 -2.592844  2.679787 -1.128131 -1.706536   \n",
      "192529  129741.0 -1.396204  2.618584 -6.036770  3.552454  1.030091 -2.950358   \n",
      "...          ...       ...       ...       ...       ...       ...       ...   \n",
      "97627    66302.0  1.143213  0.025304  0.557878  0.619166 -0.429100 -0.280548   \n",
      "218143  141184.0  2.190391 -0.252599 -3.025413 -0.930341  0.847590 -1.564187   \n",
      "162944  115511.0  1.835096 -0.541014 -0.589526  0.463483 -0.298375  0.032718   \n",
      "275736  166699.0 -0.981097  1.282901 -0.835133  1.418454  1.490565  0.291767   \n",
      "137677   82278.0  1.544578 -0.907758  0.541404 -1.465770 -1.373628 -0.612521   \n",
      "\n",
      "              V7        V8        V9  ...       V20       V21       V22  \\\n",
      "10484  -0.022989 -0.010874  0.860044  ... -0.217358 -0.423554 -0.800852   \n",
      "88307  -2.277786  1.268166 -1.997331  ...  0.225333  0.662933  0.184087   \n",
      "222419  1.295016 -0.135857 -1.695822  ... -0.264705  0.105593  0.371014   \n",
      "6108   -3.496197 -0.248778 -0.247768  ... -0.171608  0.573574  0.176968   \n",
      "192529 -1.528506  0.189319 -1.433554  ...  0.031795  0.143177 -0.390176   \n",
      "...          ...       ...       ...  ...       ...       ...       ...   \n",
      "97627  -0.203749  0.151453  0.281685  ... -0.275805 -0.198379 -0.598292   \n",
      "218143  0.926425 -0.624272  0.617694  ... -0.187102  0.197362  0.664905   \n",
      "162944 -0.379648 -0.015625  0.903848  ...  0.074643 -0.159605 -0.531429   \n",
      "275736  0.819464 -0.277339  0.659541  ... -0.074305 -0.617772 -0.802537   \n",
      "137677 -1.015830 -0.208164 -1.874072  ... -0.243318 -0.390756 -0.708211   \n",
      "\n",
      "             V23       V24       V25       V26       V27       V28  Amount  \n",
      "10484   0.077614  0.167608  0.350182 -0.118941  0.012948  0.054254    3.79  \n",
      "88307  -0.089452 -0.506000 -0.062259 -0.052714  0.322854  0.135268  180.00  \n",
      "222419  0.051105  0.401524 -0.724766 -0.202881  0.092124  0.094956    0.00  \n",
      "6108   -0.436207 -0.053502  0.252405 -0.657488 -0.827136  0.849573   59.00  \n",
      "192529  0.356029 -0.762352  0.096510 -0.487861  0.062655 -0.240732    1.00  \n",
      "...          ...       ...       ...       ...       ...       ...     ...  \n",
      "97627   0.256351  0.041878 -0.034838  0.139114 -0.007502  0.012244    4.49  \n",
      "218143 -0.329294 -0.894881  0.715550  1.133863 -0.164656 -0.107366   42.00  \n",
      "162944  0.320792  0.421270 -0.529474 -0.046145 -0.025257 -0.016904   99.00  \n",
      "275736  0.144919  0.100083  0.268799 -0.796307 -1.070945 -0.660671    8.54  \n",
      "137677  0.107111 -0.142628  0.236710 -0.382245  0.050399  0.026529    9.80  \n",
      "\n",
      "[227845 rows x 30 columns]\n",
      "----------------------------------------------------------------------\n",
      "Dependent Variables\n",
      "10484     1\n",
      "88307     1\n",
      "222419    1\n",
      "6108      1\n",
      "192529    1\n",
      "         ..\n",
      "97627     0\n",
      "218143    0\n",
      "162944    0\n",
      "275736    0\n",
      "137677    0\n",
      "Name: Class, Length: 227845, dtype: category\n",
      "Categories (2, int64): [0, 1]\n",
      "\n"
     ]
    }
   ],
   "source": [
    "print(\"\"\"\n",
    "Indipendent Variables\n",
    "{}\n",
    "{}\n",
    "Dependent Variables\n",
    "{}\n",
    "\"\"\".format(xTrain,'-------'*10,yTrain))"
   ]
  },
  {
   "cell_type": "markdown",
   "id": "104ce9f7",
   "metadata": {
    "papermill": {
     "duration": 0.030724,
     "end_time": "2022-04-14T07:45:49.185566",
     "exception": false,
     "start_time": "2022-04-14T07:45:49.154842",
     "status": "completed"
    },
    "tags": []
   },
   "source": [
    "------------------------\n",
    "**Model Training**\n",
    "\n",
    "* Logistic Regression"
   ]
  },
  {
   "cell_type": "code",
   "execution_count": 14,
   "id": "e75f8c8a",
   "metadata": {
    "execution": {
     "iopub.execute_input": "2022-04-14T07:45:49.252897Z",
     "iopub.status.busy": "2022-04-14T07:45:49.251305Z",
     "iopub.status.idle": "2022-04-14T07:45:49.325963Z",
     "shell.execute_reply": "2022-04-14T07:45:49.326466Z",
     "shell.execute_reply.started": "2022-04-13T11:11:23.118811Z"
    },
    "papermill": {
     "duration": 0.109763,
     "end_time": "2022-04-14T07:45:49.326680",
     "exception": false,
     "start_time": "2022-04-14T07:45:49.216917",
     "status": "completed"
    },
    "tags": []
   },
   "outputs": [],
   "source": [
    "from sklearn.linear_model import LogisticRegression\n",
    "from sklearn.metrics import classification_report, accuracy_score"
   ]
  },
  {
   "cell_type": "code",
   "execution_count": 15,
   "id": "6ed3844d",
   "metadata": {
    "execution": {
     "iopub.execute_input": "2022-04-14T07:45:49.392438Z",
     "iopub.status.busy": "2022-04-14T07:45:49.391814Z",
     "iopub.status.idle": "2022-04-14T07:46:04.020316Z",
     "shell.execute_reply": "2022-04-14T07:46:04.021340Z",
     "shell.execute_reply.started": "2022-04-13T11:11:43.977218Z"
    },
    "papermill": {
     "duration": 14.663825,
     "end_time": "2022-04-14T07:46:04.021636",
     "exception": false,
     "start_time": "2022-04-14T07:45:49.357811",
     "status": "completed"
    },
    "tags": []
   },
   "outputs": [
    {
     "data": {
      "text/plain": [
       "LogisticRegression(max_iter=3000)"
      ]
     },
     "execution_count": 15,
     "metadata": {},
     "output_type": "execute_result"
    }
   ],
   "source": [
    "model = LogisticRegression(max_iter=3000)\n",
    "\n",
    "model.fit(xTrain, yTrain)"
   ]
  },
  {
   "cell_type": "markdown",
   "id": "c6635483",
   "metadata": {
    "papermill": {
     "duration": 0.057094,
     "end_time": "2022-04-14T07:46:04.138334",
     "exception": false,
     "start_time": "2022-04-14T07:46:04.081240",
     "status": "completed"
    },
    "tags": []
   },
   "source": [
    "> See Also: https://towardsdatascience.com/dont-sweat-the-solver-stuff-aea7cddc3451"
   ]
  },
  {
   "cell_type": "code",
   "execution_count": 16,
   "id": "dd4ca582",
   "metadata": {
    "execution": {
     "iopub.execute_input": "2022-04-14T07:46:04.209890Z",
     "iopub.status.busy": "2022-04-14T07:46:04.209106Z",
     "iopub.status.idle": "2022-04-14T07:46:04.257050Z",
     "shell.execute_reply": "2022-04-14T07:46:04.257579Z",
     "shell.execute_reply.started": "2022-04-13T11:13:39.792148Z"
    },
    "papermill": {
     "duration": 0.087312,
     "end_time": "2022-04-14T07:46:04.257860",
     "exception": false,
     "start_time": "2022-04-14T07:46:04.170548",
     "status": "completed"
    },
    "tags": []
   },
   "outputs": [],
   "source": [
    "xTrainPredection = model.predict(xTrain)\n",
    "trainingDataAccuracy = accuracy_score(xTrainPredection, yTrain)"
   ]
  },
  {
   "cell_type": "markdown",
   "id": "e939dae5",
   "metadata": {
    "papermill": {
     "duration": 0.040436,
     "end_time": "2022-04-14T07:46:04.355865",
     "exception": false,
     "start_time": "2022-04-14T07:46:04.315429",
     "status": "completed"
    },
    "tags": []
   },
   "source": [
    "Now I separate the dependent and independent variables for the test dataset."
   ]
  },
  {
   "cell_type": "code",
   "execution_count": 17,
   "id": "8ac70227",
   "metadata": {
    "execution": {
     "iopub.execute_input": "2022-04-14T07:46:04.429967Z",
     "iopub.status.busy": "2022-04-14T07:46:04.429187Z",
     "iopub.status.idle": "2022-04-14T07:46:04.431226Z",
     "shell.execute_reply": "2022-04-14T07:46:04.431709Z",
     "shell.execute_reply.started": "2022-04-13T11:14:56.175477Z"
    },
    "papermill": {
     "duration": 0.044103,
     "end_time": "2022-04-14T07:46:04.431883",
     "exception": false,
     "start_time": "2022-04-14T07:46:04.387780",
     "status": "completed"
    },
    "tags": []
   },
   "outputs": [],
   "source": [
    "xTest = new_test_df.drop(columns='Class', axis=1)\n",
    "yTest = new_test_df.Class"
   ]
  },
  {
   "cell_type": "code",
   "execution_count": 18,
   "id": "9b69653a",
   "metadata": {
    "execution": {
     "iopub.execute_input": "2022-04-14T07:46:04.502698Z",
     "iopub.status.busy": "2022-04-14T07:46:04.501954Z",
     "iopub.status.idle": "2022-04-14T07:46:04.517419Z",
     "shell.execute_reply": "2022-04-14T07:46:04.518095Z",
     "shell.execute_reply.started": "2022-04-13T11:15:09.310735Z"
    },
    "papermill": {
     "duration": 0.054627,
     "end_time": "2022-04-14T07:46:04.518266",
     "exception": false,
     "start_time": "2022-04-14T07:46:04.463639",
     "status": "completed"
    },
    "tags": []
   },
   "outputs": [],
   "source": [
    "xTestPrediction = model.predict(xTest)\n",
    "testDataAccuracy = accuracy_score(xTestPrediction, yTest)"
   ]
  },
  {
   "cell_type": "markdown",
   "id": "f8c7687b",
   "metadata": {
    "papermill": {
     "duration": 0.05314,
     "end_time": "2022-04-14T07:46:04.630797",
     "exception": false,
     "start_time": "2022-04-14T07:46:04.577657",
     "status": "completed"
    },
    "tags": []
   },
   "source": [
    "--------\n",
    "# Result"
   ]
  },
  {
   "cell_type": "code",
   "execution_count": 19,
   "id": "261431f4",
   "metadata": {
    "execution": {
     "iopub.execute_input": "2022-04-14T07:46:04.699744Z",
     "iopub.status.busy": "2022-04-14T07:46:04.699033Z",
     "iopub.status.idle": "2022-04-14T07:46:04.701781Z",
     "shell.execute_reply": "2022-04-14T07:46:04.702265Z",
     "shell.execute_reply.started": "2022-04-13T11:15:36.6168Z"
    },
    "papermill": {
     "duration": 0.039581,
     "end_time": "2022-04-14T07:46:04.702442",
     "exception": false,
     "start_time": "2022-04-14T07:46:04.662861",
     "status": "completed"
    },
    "tags": []
   },
   "outputs": [
    {
     "name": "stdout",
     "output_type": "stream",
     "text": [
      "\n",
      "Train Accuracy Score : 0.999113432377274\n",
      "Test Accuracy Score  : 0.9991748885221726\n",
      "\n"
     ]
    }
   ],
   "source": [
    "print(\n",
    "\"\"\"\n",
    "Train Accuracy Score : {}\n",
    "Test Accuracy Score  : {}\n",
    "\"\"\".format(trainingDataAccuracy, testDataAccuracy))"
   ]
  },
  {
   "cell_type": "code",
   "execution_count": null,
   "id": "762c8795",
   "metadata": {
    "papermill": {
     "duration": 0.032521,
     "end_time": "2022-04-14T07:46:04.766841",
     "exception": false,
     "start_time": "2022-04-14T07:46:04.734320",
     "status": "completed"
    },
    "tags": []
   },
   "outputs": [],
   "source": []
  }
 ],
 "metadata": {
  "kernelspec": {
   "display_name": "Python 3",
   "language": "python",
   "name": "python3"
  },
  "language_info": {
   "codemirror_mode": {
    "name": "ipython",
    "version": 3
   },
   "file_extension": ".py",
   "mimetype": "text/x-python",
   "name": "python",
   "nbconvert_exporter": "python",
   "pygments_lexer": "ipython3",
   "version": "3.7.12"
  },
  "papermill": {
   "default_parameters": {},
   "duration": 34.366934,
   "end_time": "2022-04-14T07:46:05.509903",
   "environment_variables": {},
   "exception": null,
   "input_path": "__notebook__.ipynb",
   "output_path": "__notebook__.ipynb",
   "parameters": {},
   "start_time": "2022-04-14T07:45:31.142969",
   "version": "2.3.3"
  }
 },
 "nbformat": 4,
 "nbformat_minor": 5
}
